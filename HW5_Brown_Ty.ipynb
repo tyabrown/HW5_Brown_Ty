{
 "cells": [
  {
   "cell_type": "code",
   "execution_count": 1,
   "id": "eb47cda6",
   "metadata": {},
   "outputs": [],
   "source": [
    "#Question 1"
   ]
  },
  {
   "cell_type": "code",
   "execution_count": 2,
   "id": "aaef4a14",
   "metadata": {
    "scrolled": true
   },
   "outputs": [
    {
     "data": {
      "text/html": [
       "<table>\n",
       "<tbody>\n",
       "\t<tr><td>7 </td><td>9 </td><td>12</td></tr>\n",
       "\t<tr><td>2 </td><td>4 </td><td>13</td></tr>\n",
       "</tbody>\n",
       "</table>\n"
      ],
      "text/latex": [
       "\\begin{tabular}{lll}\n",
       "\t 7  & 9  & 12\\\\\n",
       "\t 2  & 4  & 13\\\\\n",
       "\\end{tabular}\n"
      ],
      "text/markdown": [
       "\n",
       "| 7  | 9  | 12 |\n",
       "| 2  | 4  | 13 |\n",
       "\n"
      ],
      "text/plain": [
       "     [,1] [,2] [,3]\n",
       "[1,] 7    9    12  \n",
       "[2,] 2    4    13  "
      ]
     },
     "metadata": {},
     "output_type": "display_data"
    },
    {
     "name": "stdout",
     "output_type": "stream",
     "text": [
      "[1] \"x\"\n"
     ]
    },
    {
     "data": {
      "text/html": [
       "<table>\n",
       "<tbody>\n",
       "\t<tr><td>1 </td><td>7 </td><td>12</td><td>19</td></tr>\n",
       "\t<tr><td>2 </td><td>8 </td><td>13</td><td>20</td></tr>\n",
       "\t<tr><td>3 </td><td>9 </td><td>14</td><td>21</td></tr>\n",
       "</tbody>\n",
       "</table>\n"
      ],
      "text/latex": [
       "\\begin{tabular}{llll}\n",
       "\t 1  & 7  & 12 & 19\\\\\n",
       "\t 2  & 8  & 13 & 20\\\\\n",
       "\t 3  & 9  & 14 & 21\\\\\n",
       "\\end{tabular}\n"
      ],
      "text/markdown": [
       "\n",
       "| 1  | 7  | 12 | 19 |\n",
       "| 2  | 8  | 13 | 20 |\n",
       "| 3  | 9  | 14 | 21 |\n",
       "\n"
      ],
      "text/plain": [
       "     [,1] [,2] [,3] [,4]\n",
       "[1,] 1    7    12   19  \n",
       "[2,] 2    8    13   20  \n",
       "[3,] 3    9    14   21  "
      ]
     },
     "metadata": {},
     "output_type": "display_data"
    },
    {
     "name": "stdout",
     "output_type": "stream",
     "text": [
      "[1] \"=\"\n"
     ]
    },
    {
     "data": {
      "text/html": [
       "<table>\n",
       "<tbody>\n",
       "\t<tr><td>61 </td><td>229</td><td>369</td><td>565</td></tr>\n",
       "\t<tr><td>49 </td><td>163</td><td>258</td><td>391</td></tr>\n",
       "</tbody>\n",
       "</table>\n"
      ],
      "text/latex": [
       "\\begin{tabular}{llll}\n",
       "\t 61  & 229 & 369 & 565\\\\\n",
       "\t 49  & 163 & 258 & 391\\\\\n",
       "\\end{tabular}\n"
      ],
      "text/markdown": [
       "\n",
       "| 61  | 229 | 369 | 565 |\n",
       "| 49  | 163 | 258 | 391 |\n",
       "\n"
      ],
      "text/plain": [
       "     [,1] [,2] [,3] [,4]\n",
       "[1,] 61   229  369  565 \n",
       "[2,] 49   163  258  391 "
      ]
     },
     "metadata": {},
     "output_type": "display_data"
    }
   ],
   "source": [
    "#creating the two matrixes:\n",
    "matrix1 <- matrix(c(7,2,9,4,12,13), nrow = 2, ncol = 3)\n",
    "matrix2 <- matrix(c(1,2,3,7,8,9,12,13,14,19,20,21), nrow = 3, ncol = 4)\n",
    "#printing them to show they're correct:\n",
    "matrix1\n",
    "print('x') #printing multiplication sign\n",
    "matrix2\n",
    "\n",
    "matrix3 <- matrix(nrow = 2, ncol = 4) #creates empty final matrix with correct number of rows/columns\n",
    "\n",
    "for (x in 1:8) { #for loop to iterate through each value in matrix 3 to fill it correctly\n",
    "\n",
    "    if (x == 1) { #this if/elif/else checks which row is appropriate from matrix 1 based on the index\n",
    "        matrix1row <- matrix1 [-c(2),] #and drops the other\n",
    "    } else if (x == 3) {\n",
    "            matrix1row <- matrix1 [-c(2),]\n",
    "    } else if (x == 5) {\n",
    "            matrix1row <- matrix1 [-c(2),]\n",
    "    } else if (x == 7) {\n",
    "            matrix1row <- matrix1 [-c(2),]\n",
    "    } else {\n",
    "        matrix1row <- matrix1 [-c(1),]\n",
    "    }\n",
    "    \n",
    "    if (x == 1) { #this if/elif/else checks which column is appropriate from matrix 2 based on the index\n",
    "        matrix2column <- matrix2[,-c(2:4)] #and drops the others\n",
    "    } else if (x == 2) {\n",
    "        matrix2column <- matrix2[,-c(2:4)]\n",
    "    } else if (x == 3) {\n",
    "        matrix2column <- matrix2[,-c(1,3,4)]\n",
    "    } else if (x == 4) {\n",
    "        matrix2column <- matrix2[,-c(1,3,4)]\n",
    "    } else if (x == 5) {\n",
    "        matrix2column <- matrix2[,-c(1,2,4)]\n",
    "    } else if (x == 6) {\n",
    "        matrix2column <- matrix2[,-c(1,2,4)]\n",
    "    } else if (x == 7) {\n",
    "        matrix2column <- matrix2[,-c(1:3)]\n",
    "    } else if (x == 8) {\n",
    "        matrix2column <- matrix2[,-c(1:3)]\n",
    "    }\n",
    "    \n",
    "    #which means the correct row/column from each matrix has now been found\n",
    "    #and the math can be done to calculate a cell\n",
    "    #the rest of the main loop goes through the correct row/column and updates the associated value in the output matrix\n",
    "    \n",
    "    val <- 0 #empty variable - will be updated to hold value added to output matrix\n",
    "    valParts <- list(0,0,0) #empty list - will be updated to hold values to sum into val\n",
    "    \n",
    "    for (a in 1:3) { #for loop to create list of intermediate values to sum\n",
    "        valParts[a] <- matrix1row[a]*matrix2column[a] #using the index of each list and multiplication\n",
    "    }\n",
    "    for (b in valParts) { #for loop to add the intermediate values together into the final value\n",
    "        val <- val + b\n",
    "    }\n",
    "    \n",
    "    matrix3[x] <- val #then update the output matrix with the final value\n",
    "}\n",
    "\n",
    "#And printing the final matrix:\n",
    "print('=') #printing equals sign\n",
    "matrix3"
   ]
  },
  {
   "cell_type": "code",
   "execution_count": 3,
   "id": "69e61fdc",
   "metadata": {},
   "outputs": [],
   "source": [
    "#Question 2"
   ]
  },
  {
   "cell_type": "code",
   "execution_count": 4,
   "id": "5417788c",
   "metadata": {},
   "outputs": [
    {
     "data": {
      "text/html": [
       "<table>\n",
       "<thead><tr><th scope=col>id</th><th scope=col>name</th><th scope=col>salary</th></tr></thead>\n",
       "<tbody>\n",
       "\t<tr><td>1       </td><td>Peter   </td><td>623.30  </td></tr>\n",
       "\t<tr><td>2       </td><td>Amy     </td><td>515.20  </td></tr>\n",
       "\t<tr><td>3       </td><td>Ryan    </td><td>611.00  </td></tr>\n",
       "\t<tr><td>4       </td><td>Gary    </td><td>729.00  </td></tr>\n",
       "\t<tr><td>5       </td><td>Michelle</td><td>843.25  </td></tr>\n",
       "</tbody>\n",
       "</table>\n"
      ],
      "text/latex": [
       "\\begin{tabular}{r|lll}\n",
       " id & name & salary\\\\\n",
       "\\hline\n",
       "\t 1        & Peter    & 623.30  \\\\\n",
       "\t 2        & Amy      & 515.20  \\\\\n",
       "\t 3        & Ryan     & 611.00  \\\\\n",
       "\t 4        & Gary     & 729.00  \\\\\n",
       "\t 5        & Michelle & 843.25  \\\\\n",
       "\\end{tabular}\n"
      ],
      "text/markdown": [
       "\n",
       "| id | name | salary |\n",
       "|---|---|---|\n",
       "| 1        | Peter    | 623.30   |\n",
       "| 2        | Amy      | 515.20   |\n",
       "| 3        | Ryan     | 611.00   |\n",
       "| 4        | Gary     | 729.00   |\n",
       "| 5        | Michelle | 843.25   |\n",
       "\n"
      ],
      "text/plain": [
       "  id name     salary\n",
       "1 1  Peter    623.30\n",
       "2 2  Amy      515.20\n",
       "3 3  Ryan     611.00\n",
       "4 4  Gary     729.00\n",
       "5 5  Michelle 843.25"
      ]
     },
     "metadata": {},
     "output_type": "display_data"
    }
   ],
   "source": [
    "#A\n",
    "Q2data <- data.frame (\n",
    "    id = c(1,2,3,4,5),\n",
    "    name = c('Peter', 'Amy', 'Ryan', 'Gary', 'Michelle'),\n",
    "    salary = c(623.30,515.20,611.00,729.00,843.25)\n",
    ")\n",
    "\n",
    "Q2data"
   ]
  },
  {
   "cell_type": "code",
   "execution_count": 5,
   "id": "05067833",
   "metadata": {
    "scrolled": true
   },
   "outputs": [
    {
     "data": {
      "text/html": [
       "<table>\n",
       "<thead><tr><th scope=col>id</th><th scope=col>name</th><th scope=col>salary</th><th scope=col>Department</th></tr></thead>\n",
       "<tbody>\n",
       "\t<tr><td>1                </td><td>Peter            </td><td>623.30           </td><td>IT               </td></tr>\n",
       "\t<tr><td>2                </td><td>Amy              </td><td>515.20           </td><td>Marketing        </td></tr>\n",
       "\t<tr><td>3                </td><td>Ryan             </td><td>611.00           </td><td>Sales            </td></tr>\n",
       "\t<tr><td>4                </td><td>Gary             </td><td>729.00           </td><td>Management       </td></tr>\n",
       "\t<tr><td>5                </td><td>Michelle         </td><td>843.25           </td><td>Political Affairs</td></tr>\n",
       "</tbody>\n",
       "</table>\n"
      ],
      "text/latex": [
       "\\begin{tabular}{r|llll}\n",
       " id & name & salary & Department\\\\\n",
       "\\hline\n",
       "\t 1                 & Peter             & 623.30            & IT               \\\\\n",
       "\t 2                 & Amy               & 515.20            & Marketing        \\\\\n",
       "\t 3                 & Ryan              & 611.00            & Sales            \\\\\n",
       "\t 4                 & Gary              & 729.00            & Management       \\\\\n",
       "\t 5                 & Michelle          & 843.25            & Political Affairs\\\\\n",
       "\\end{tabular}\n"
      ],
      "text/markdown": [
       "\n",
       "| id | name | salary | Department |\n",
       "|---|---|---|---|\n",
       "| 1                 | Peter             | 623.30            | IT                |\n",
       "| 2                 | Amy               | 515.20            | Marketing         |\n",
       "| 3                 | Ryan              | 611.00            | Sales             |\n",
       "| 4                 | Gary              | 729.00            | Management        |\n",
       "| 5                 | Michelle          | 843.25            | Political Affairs |\n",
       "\n"
      ],
      "text/plain": [
       "  id name     salary Department       \n",
       "1 1  Peter    623.30 IT               \n",
       "2 2  Amy      515.20 Marketing        \n",
       "3 3  Ryan     611.00 Sales            \n",
       "4 4  Gary     729.00 Management       \n",
       "5 5  Michelle 843.25 Political Affairs"
      ]
     },
     "metadata": {},
     "output_type": "display_data"
    }
   ],
   "source": [
    "#B\n",
    "Q2dataNew <- cbind(Q2data, Department = c('IT','Marketing','Sales','Management','Political Affairs'))\n",
    "Q2dataNew"
   ]
  },
  {
   "cell_type": "code",
   "execution_count": 6,
   "id": "adb109a8",
   "metadata": {},
   "outputs": [
    {
     "data": {
      "text/html": [
       "<table>\n",
       "<thead><tr><th></th><th scope=col>id</th><th scope=col>Department</th></tr></thead>\n",
       "<tbody>\n",
       "\t<tr><th scope=row>2</th><td>2         </td><td>Marketing </td></tr>\n",
       "\t<tr><th scope=row>4</th><td>4         </td><td>Management</td></tr>\n",
       "</tbody>\n",
       "</table>\n"
      ],
      "text/latex": [
       "\\begin{tabular}{r|ll}\n",
       "  & id & Department\\\\\n",
       "\\hline\n",
       "\t2 & 2          & Marketing \\\\\n",
       "\t4 & 4          & Management\\\\\n",
       "\\end{tabular}\n"
      ],
      "text/markdown": [
       "\n",
       "| <!--/--> | id | Department |\n",
       "|---|---|---|\n",
       "| 2 | 2          | Marketing  |\n",
       "| 4 | 4          | Management |\n",
       "\n"
      ],
      "text/plain": [
       "  id Department\n",
       "2 2  Marketing \n",
       "4 4  Management"
      ]
     },
     "metadata": {},
     "output_type": "display_data"
    }
   ],
   "source": [
    "#C\n",
    "Q2dataExtracted <- Q2dataNew[-c(1,3,5),-c(2,3)]\n",
    "Q2dataExtracted"
   ]
  },
  {
   "cell_type": "code",
   "execution_count": 7,
   "id": "807bca94",
   "metadata": {},
   "outputs": [
    {
     "data": {
      "image/png": "[encoded data removed]",
      "text/plain": [
       "Plot with title \"Rows 1,4,5 Salaries Bar Graph\""
      ]
     },
     "metadata": {},
     "output_type": "display_data"
    }
   ],
   "source": [
    "#D\n",
    "Q2Ddata <- Q2dataNew[-c(2,3),]\n",
    "barplot(Q2Ddata$salary, names.arg = Q2Ddata$name, ylab = 'Salary', xlab = 'Person', main = 'Rows 1,4,5 Salaries Bar Graph')"
   ]
  },
  {
   "cell_type": "code",
   "execution_count": 8,
   "id": "b2076bb7",
   "metadata": {},
   "outputs": [
    {
     "data": {
      "image/png": "[encoded data removed]",
      "text/plain": [
       "Plot with title \"Highest, Lowest, Median Salary Pie Chart\""
      ]
     },
     "metadata": {},
     "output_type": "display_data"
    }
   ],
   "source": [
    "#E\n",
    "median = median(Q2dataNew$salary)\n",
    "lowest = min(Q2dataNew$salary)\n",
    "highest = max(Q2dataNew$salary)\n",
    "pieStatList = c(lowest, median,highest)\n",
    "nameLabels = c('Amy','Peter','Michelle')\n",
    "pie(pieStatList, label = nameLabels, main = \"Highest, Lowest, Median Salary Pie Chart\")"
   ]
  },
  {
   "cell_type": "code",
   "execution_count": 9,
   "id": "b3826746",
   "metadata": {},
   "outputs": [],
   "source": [
    "#Question 3"
   ]
  },
  {
   "cell_type": "code",
   "execution_count": 10,
   "id": "653b33a7",
   "metadata": {},
   "outputs": [
    {
     "data": {
      "text/html": [
       "<table>\n",
       "<thead><tr><th scope=col>Order.Date</th><th scope=col>Order.ID</th><th scope=col>Payment.Instrument.Type</th><th scope=col>Website</th><th scope=col>Purchase.Order.Number</th><th scope=col>Ordering.Customer.Email</th><th scope=col>Shipment.Date</th><th scope=col>Shipping.Address.Name</th><th scope=col>Shipping.Address.Street.1</th><th scope=col>Shipping.Address.Street.2</th><th scope=col>...</th><th scope=col>Order.Status</th><th scope=col>Carrier.Name...Tracking.Number</th><th scope=col>Subtotal</th><th scope=col>Shipping.Charge</th><th scope=col>Tax.Before.Promotions</th><th scope=col>Total.Promotions</th><th scope=col>Tax.Charged</th><th scope=col>Total.Charged</th><th scope=col>Buyer.Name</th><th scope=col>Group.Name</th></tr></thead>\n",
       "<tbody>\n",
       "\t<tr><td>04/01/19            </td><td>112-0000000-0000001 </td><td>Visa - 0001         </td><td>Amazon.com          </td><td>NA                  </td><td>your_email@gmail.com</td><td>04/01/19            </td><td>Your Name           </td><td>1 YOUR STREET       </td><td>NA                  </td><td>...                 </td><td>Shipped             </td><td>USPS(0001)          </td><td>$35.00              </td><td>$0.00               </td><td>$1.93               </td><td>$0.00               </td><td>$1.93               </td><td>$36.93              </td><td>Your Name           </td><td>NA                  </td></tr>\n",
       "\t<tr><td>04/01/19            </td><td>112-0000000-0000002 </td><td>Visa - 0001         </td><td>Amazon.com          </td><td>NA                  </td><td>your_email@gmail.com</td><td>04/01/19            </td><td>Your Name           </td><td>1 YOUR STREET       </td><td>NA                  </td><td>...                 </td><td>Shipped             </td><td>USPS(0001)          </td><td>$16.99              </td><td>$0.00               </td><td>$0.00               </td><td>$0.00               </td><td>$0.00               </td><td>$16.99              </td><td>Your Name           </td><td>NA                  </td></tr>\n",
       "</tbody>\n",
       "</table>\n"
      ],
      "text/latex": [
       "\\begin{tabular}{r|lllllllllllllllllllllll}\n",
       " Order.Date & Order.ID & Payment.Instrument.Type & Website & Purchase.Order.Number & Ordering.Customer.Email & Shipment.Date & Shipping.Address.Name & Shipping.Address.Street.1 & Shipping.Address.Street.2 & ... & Order.Status & Carrier.Name...Tracking.Number & Subtotal & Shipping.Charge & Tax.Before.Promotions & Total.Promotions & Tax.Charged & Total.Charged & Buyer.Name & Group.Name\\\\\n",
       "\\hline\n",
       "\t 04/01/19               & 112-0000000-0000001    & Visa - 0001            & Amazon.com             & NA                     & your\\_email@gmail.com & 04/01/19               & Your Name              & 1 YOUR STREET          & NA                     & ...                    & Shipped                & USPS(0001)             & \\$35.00               & \\$0.00                & \\$1.93                & \\$0.00                & \\$1.93                & \\$36.93               & Your Name              & NA                    \\\\\n",
       "\t 04/01/19               & 112-0000000-0000002    & Visa - 0001            & Amazon.com             & NA                     & your\\_email@gmail.com & 04/01/19               & Your Name              & 1 YOUR STREET          & NA                     & ...                    & Shipped                & USPS(0001)             & \\$16.99               & \\$0.00                & \\$0.00                & \\$0.00                & \\$0.00                & \\$16.99               & Your Name              & NA                    \\\\\n",
       "\\end{tabular}\n"
      ],
      "text/markdown": [
       "\n",
       "| Order.Date | Order.ID | Payment.Instrument.Type | Website | Purchase.Order.Number | Ordering.Customer.Email | Shipment.Date | Shipping.Address.Name | Shipping.Address.Street.1 | Shipping.Address.Street.2 | ... | Order.Status | Carrier.Name...Tracking.Number | Subtotal | Shipping.Charge | Tax.Before.Promotions | Total.Promotions | Tax.Charged | Total.Charged | Buyer.Name | Group.Name |\n",
       "|---|---|---|---|---|---|---|---|---|---|---|---|---|---|---|---|---|---|---|---|---|\n",
       "| 04/01/19             | 112-0000000-0000001  | Visa - 0001          | Amazon.com           | NA                   | your_email@gmail.com | 04/01/19             | Your Name            | 1 YOUR STREET        | NA                   | ...                  | Shipped              | USPS(0001)           | $35.00               | $0.00                | $1.93                | $0.00                | $1.93                | $36.93               | Your Name            | NA                   |\n",
       "| 04/01/19             | 112-0000000-0000002  | Visa - 0001          | Amazon.com           | NA                   | your_email@gmail.com | 04/01/19             | Your Name            | 1 YOUR STREET        | NA                   | ...                  | Shipped              | USPS(0001)           | $16.99               | $0.00                | $0.00                | $0.00                | $0.00                | $16.99               | Your Name            | NA                   |\n",
       "\n"
      ],
      "text/plain": [
       "  Order.Date Order.ID            Payment.Instrument.Type Website   \n",
       "1 04/01/19   112-0000000-0000001 Visa - 0001             Amazon.com\n",
       "2 04/01/19   112-0000000-0000002 Visa - 0001             Amazon.com\n",
       "  Purchase.Order.Number Ordering.Customer.Email Shipment.Date\n",
       "1 NA                    your_email@gmail.com    04/01/19     \n",
       "2 NA                    your_email@gmail.com    04/01/19     \n",
       "  Shipping.Address.Name Shipping.Address.Street.1 Shipping.Address.Street.2 ...\n",
       "1 Your Name             1 YOUR STREET             NA                        ...\n",
       "2 Your Name             1 YOUR STREET             NA                        ...\n",
       "  Order.Status Carrier.Name...Tracking.Number Subtotal Shipping.Charge\n",
       "1 Shipped      USPS(0001)                     $35.00   $0.00          \n",
       "2 Shipped      USPS(0001)                     $16.99   $0.00          \n",
       "  Tax.Before.Promotions Total.Promotions Tax.Charged Total.Charged Buyer.Name\n",
       "1 $1.93                 $0.00            $1.93       $36.93        Your Name \n",
       "2 $0.00                 $0.00            $0.00       $16.99        Your Name \n",
       "  Group.Name\n",
       "1 NA        \n",
       "2 NA        "
      ]
     },
     "metadata": {},
     "output_type": "display_data"
    }
   ],
   "source": [
    "#Importing Data\n",
    "AmazonData <- read.csv(file = 'amazon-orders.csv')\n",
    "head(AmazonData, 2) #Demonstrating it works"
   ]
  },
  {
   "cell_type": "code",
   "execution_count": 11,
   "id": "31820419",
   "metadata": {},
   "outputs": [
    {
     "data": {
      "text/html": [
       "<table>\n",
       "<thead><tr><th scope=col>Order.Date</th><th scope=col>Subtotal</th><th scope=col>Shipping.Charge</th><th scope=col>Tax.Before.Promotions</th><th scope=col>Total.Promotions</th><th scope=col>Tax.Charged</th><th scope=col>Total.Charged</th></tr></thead>\n",
       "<tbody>\n",
       "\t<tr><td>2019-04-01</td><td>35.00     </td><td>0         </td><td>1.93      </td><td>0         </td><td>1.93      </td><td>36.93     </td></tr>\n",
       "\t<tr><td>2019-04-01</td><td>16.99     </td><td>0         </td><td>0.00      </td><td>0         </td><td>0.00      </td><td>16.99     </td></tr>\n",
       "</tbody>\n",
       "</table>\n"
      ],
      "text/latex": [
       "\\begin{tabular}{r|lllllll}\n",
       " Order.Date & Subtotal & Shipping.Charge & Tax.Before.Promotions & Total.Promotions & Tax.Charged & Total.Charged\\\\\n",
       "\\hline\n",
       "\t 2019-04-01 & 35.00      & 0          & 1.93       & 0          & 1.93       & 36.93     \\\\\n",
       "\t 2019-04-01 & 16.99      & 0          & 0.00       & 0          & 0.00       & 16.99     \\\\\n",
       "\\end{tabular}\n"
      ],
      "text/markdown": [
       "\n",
       "| Order.Date | Subtotal | Shipping.Charge | Tax.Before.Promotions | Total.Promotions | Tax.Charged | Total.Charged |\n",
       "|---|---|---|---|---|---|---|\n",
       "| 2019-04-01 | 35.00      | 0          | 1.93       | 0          | 1.93       | 36.93      |\n",
       "| 2019-04-01 | 16.99      | 0          | 0.00       | 0          | 0.00       | 16.99      |\n",
       "\n"
      ],
      "text/plain": [
       "  Order.Date Subtotal Shipping.Charge Tax.Before.Promotions Total.Promotions\n",
       "1 2019-04-01 35.00    0               1.93                  0               \n",
       "2 2019-04-01 16.99    0               0.00                  0               \n",
       "  Tax.Charged Total.Charged\n",
       "1 1.93        36.93        \n",
       "2 0.00        16.99        "
      ]
     },
     "metadata": {},
     "output_type": "display_data"
    }
   ],
   "source": [
    "#Turning dollar values into numeric ones to work on\n",
    "AmazonData$Subtotal = as.numeric(gsub(\"\\\\$\", \"\", AmazonData$Subtotal))\n",
    "AmazonData$Shipping.Charge = as.numeric(gsub(\"\\\\$\", \"\", AmazonData$Shipping.Charge))\n",
    "AmazonData$Total.Promotions = as.numeric(gsub(\"\\\\$\", \"\", AmazonData$Total.Promotions))\n",
    "AmazonData$Tax.Before.Promotions = as.numeric(gsub(\"\\\\$\", \"\", AmazonData$Tax.Before.Promotions))\n",
    "AmazonData$Tax.Charged = as.numeric(gsub(\"\\\\$\", \"\", AmazonData$Tax.Charged))\n",
    "AmazonData$Total.Charged = as.numeric(gsub(\"\\\\$\", \"\", AmazonData$Total.Charged))\n",
    "AmazonData$Order.Date = as.Date(AmazonData$Order.Date, format = \"%m/%d/%y\")\n",
    "#Dropping unneeded columns - I only care about amounts charged (subtotal, tax, etc.) and order date\n",
    "AmazonData <- AmazonData[-c(2:15,22,23)]\n",
    "#Diagnostic\n",
    "head(AmazonData, 2)"
   ]
  },
  {
   "cell_type": "code",
   "execution_count": 12,
   "id": "709f540f",
   "metadata": {
    "scrolled": true
   },
   "outputs": [
    {
     "name": "stdout",
     "output_type": "stream",
     "text": [
      "[1] \"Overall statistics:\"\n",
      "[1] \"The overall mean is:\"\n",
      "[1] 30.13102\n",
      "[1] \"The overall median is:\"\n",
      "[1] 15.95\n",
      "[1] \"The lowest total cost overall is:\"\n",
      "[1] 1.04\n",
      "[1] \"The highest total cost overall is:\"\n",
      "[1] 210.99\n",
      "[1] \"The standard deviation of the entire dataset is:\"\n",
      "[1] 36.42273\n"
     ]
    }
   ],
   "source": [
    "#Now I can pull population - level statistics\n",
    "TotalMean <- mean(AmazonData$Total.Charged)\n",
    "TotalMedian <- median(AmazonData$Total.Charged)\n",
    "TotalLowest <- min(AmazonData$Total.Charged)\n",
    "TotalHighest <- max(AmazonData$Total.Charged)\n",
    "TotalSD <- sd(AmazonData$Total.Charged)\n",
    "\n",
    "#And print them out\n",
    "print(\"Overall statistics:\")\n",
    "print(\"The overall mean is:\")\n",
    "print(TotalMean)\n",
    "print(\"The overall median is:\")\n",
    "print(TotalMedian)\n",
    "print(\"The lowest total cost overall is:\")\n",
    "print(TotalLowest)\n",
    "print(\"The highest total cost overall is:\")\n",
    "print(TotalHighest)\n",
    "print(\"The standard deviation of the entire dataset is:\")\n",
    "print(TotalSD)"
   ]
  },
  {
   "cell_type": "code",
   "execution_count": 13,
   "id": "3e3e7b38",
   "metadata": {},
   "outputs": [
    {
     "data": {
      "image/png": "[encoded data removed]",
      "text/plain": [
       "Plot with title \"Overall Order Prices Scatterplot\""
      ]
     },
     "metadata": {},
     "output_type": "display_data"
    }
   ],
   "source": [
    "#Scatterplot of overall dataset\n",
    "plot(AmazonData$Order.Date, AmazonData$Total.Charged, main = 'Overall Order Prices Scatterplot', xlab = \"Date\", ylab = 'Order Amount')"
   ]
  },
  {
   "cell_type": "code",
   "execution_count": 14,
   "id": "75809a86",
   "metadata": {},
   "outputs": [
    {
     "data": {
      "image/png": "[encoded data removed]",
      "text/plain": [
       "Plot with title \"Overall Order Prices Scatterplot\""
      ]
     },
     "metadata": {},
     "output_type": "display_data"
    },
    {
     "data": {
      "image/png": "[encoded data removed]",
      "text/plain": [
       "Plot with title \"Monthly Total Pie Chart\""
      ]
     },
     "metadata": {},
     "output_type": "display_data"
    }
   ],
   "source": [
    "#Creating Monthly Dataframes in order to do monthly statistics\n",
    "AmazonDataApril <- AmazonData[AmazonData$Order.Date <= \"2019-04-30\" & AmazonData$Order.Date >= \"2019-04-01\",]\n",
    "AmazonDataMay <- AmazonData[AmazonData$Order.Date <= \"2019-05-31\" & AmazonData$Order.Date >= \"2019-05-01\",]\n",
    "AmazonDataJune <- AmazonData[AmazonData$Order.Date <= \"2019-06-30\" & AmazonData$Order.Date >= \"2019-06-01\",]\n",
    "AmazonDataJuly <- AmazonData[AmazonData$Order.Date <= \"2019-07-31\" & AmazonData$Order.Date >= \"2019-07-01\",]\n",
    "\n",
    "#Creating Lists for Pie Chart\n",
    "ApriLSum <- sum(AmazonDataApril$Total.Charged)\n",
    "MaySum <- sum(AmazonDataMay$Total.Charged)\n",
    "JuneSum <- sum(AmazonDataJune$Total.Charged)\n",
    "JulySum <- sum(AmazonDataJuly$Total.Charged)\n",
    "\n",
    "SumList <- c(ApriLSum,MaySum,JuneSum,JulySum)\n",
    "MonthList <- c(\"April\",\"May\",\"June\",\"July\")\n",
    "colors <- c('blue','yellow','red','green')\n",
    "\n",
    "#Scatterplot of overall dataset\n",
    "plot(AmazonData$Order.Date, AmazonData$Total.Charged, main = 'Overall Order Prices Scatterplot', xlab = \"Date\", ylab = 'Order Amount')\n",
    "\n",
    "#Pie Chart of Monthly Totals\n",
    "pie(SumList, label = MonthList, main = \"Monthly Total Pie Chart\", col = colors)\n",
    "legend('bottomright', MonthList, fill = colors)"
   ]
  },
  {
   "cell_type": "code",
   "execution_count": 15,
   "id": "2f8c0bbf",
   "metadata": {},
   "outputs": [
    {
     "name": "stdout",
     "output_type": "stream",
     "text": [
      "[1] \"Here are some month-specific statistics:\"\n",
      "[1] \"April:\"\n",
      "[1] \"April mean total order cost is:\"\n",
      "[1] 39.917\n",
      "[1] \"April median total order cost is:\"\n",
      "[1] 32.865\n",
      "[1] \"April lowest total order cost is:\"\n",
      "[1] 9.99\n",
      "[1] \"April highest total order cost is:\"\n",
      "[1] 156.12\n",
      "[1] \"April total order cost standard deviation is:\"\n",
      "[1] 42.76039\n",
      "[1] \"May:\"\n",
      "[1] \"May mean total order cost is:\"\n",
      "[1] 16.33778\n",
      "[1] \"May median total order cost is:\"\n",
      "[1] 12.285\n",
      "[1] \"May lowest total order cost is:\"\n",
      "[1] 7.6\n",
      "[1] \"May highest total order cost is:\"\n",
      "[1] 38.89\n",
      "[1] \"May total order cost standard deviation is:\"\n",
      "[1] 42.76039\n",
      "[1] \"June:\"\n",
      "[1] \"June mean total order cost is:\"\n",
      "[1] 21.725\n",
      "[1] \"June median total order cost is:\"\n",
      "[1] 13.26\n",
      "[1] \"June lowest total order cost is:\"\n",
      "[1] 10.59\n",
      "[1] \"June highest total order cost is:\"\n",
      "[1] 51.99\n",
      "[1] \"June total order cost standard deviation is:\"\n",
      "[1] 16.28746\n",
      "[1] \"July:\"\n",
      "[1] \"July mean total order cost is:\"\n",
      "[1] 38.1652\n",
      "[1] \"July median total order cost is:\"\n",
      "[1] 16.46\n",
      "[1] \"July lowest total order cost is:\"\n",
      "[1] 1.04\n",
      "[1] \"July highest total order cost is:\"\n",
      "[1] 210.99\n",
      "[1] \"July total order cost standard deviation is:\"\n",
      "[1] 46.03362\n"
     ]
    }
   ],
   "source": [
    "#Calculating Summary Statistics for each month - mean, median, lowest, highest, SD\n",
    "AprilMean <- mean(AmazonDataApril$Total.Charged)\n",
    "AprilMedian <- median(AmazonDataApril$Total.Charged)\n",
    "AprilLowest <- min(AmazonDataApril$Total.Charged)\n",
    "AprilHighest <- max(AmazonDataApril$Total.Charged)\n",
    "AprilSD <- sd(AmazonDataApril$Total.Charged)\n",
    "\n",
    "MayMean <- mean(AmazonDataMay$Total.Charged)\n",
    "MayMedian <- median(AmazonDataMay$Total.Charged)\n",
    "MayLowest <- min(AmazonDataMay$Total.Charged)\n",
    "MayHighest <- max(AmazonDataMay$Total.Charged)\n",
    "MaySD <- sd(AmazonDataApril$Total.Charged)\n",
    "\n",
    "JuneMean <- mean(AmazonDataJune$Total.Charged)\n",
    "JuneMedian <- median(AmazonDataJune$Total.Charged)\n",
    "JuneLowest <- min(AmazonDataJune$Total.Charged)\n",
    "JuneHighest <- max(AmazonDataJune$Total.Charged)\n",
    "JuneSD <- sd(AmazonDataJune$Total.Charged)\n",
    "\n",
    "JulyMean <- mean(AmazonDataJuly$Total.Charged)\n",
    "JulyMedian <- median(AmazonDataJuly$Total.Charged)\n",
    "JulyLowest <- min(AmazonDataJuly$Total.Charged)\n",
    "JulyHighest <- max(AmazonDataJuly$Total.Charged)\n",
    "JulySD <- sd(AmazonDataJuly$Total.Charged)\n",
    "\n",
    "#creating statistics lists for graphs\n",
    "MeansCombined <- c(AprilMean,MayMean,JuneMean,JulyMean)\n",
    "MediansCombined <- c(AprilMedian,MayMedian,JuneMedian,JulyMedian)\n",
    "LowestCombined <- c(AprilLowest,MayLowest,JuneLowest,JulyLowest)\n",
    "HighestCombined <- c(AprilHighest,MayHighest,JuneHighest,JulyHighest)\n",
    "SDsCombined <- c(AprilSD,MaySD,JuneSD,JulySD)\n",
    "\n",
    "#Printing monthly summary statistics\n",
    "print(\"Here are some month-specific statistics:\")\n",
    "\n",
    "print(\"April:\")\n",
    "print('April mean total order cost is:')\n",
    "print(AprilMean)\n",
    "print('April median total order cost is:')\n",
    "print(AprilMedian)\n",
    "print('April lowest total order cost is:')\n",
    "print(AprilLowest)\n",
    "print('April highest total order cost is:')\n",
    "print(AprilHighest)\n",
    "print('April total order cost standard deviation is:')\n",
    "print(AprilSD)\n",
    "\n",
    "print(\"May:\")\n",
    "print('May mean total order cost is:')\n",
    "print(MayMean)\n",
    "print('May median total order cost is:')\n",
    "print(MayMedian)\n",
    "print('May lowest total order cost is:')\n",
    "print(MayLowest)\n",
    "print('May highest total order cost is:')\n",
    "print(MayHighest)\n",
    "print('May total order cost standard deviation is:')\n",
    "print(MaySD)\n",
    "\n",
    "print(\"June:\")\n",
    "print('June mean total order cost is:')\n",
    "print(JuneMean)\n",
    "print('June median total order cost is:')\n",
    "print(JuneMedian)\n",
    "print('June lowest total order cost is:')\n",
    "print(JuneLowest)\n",
    "print('June highest total order cost is:')\n",
    "print(JuneHighest)\n",
    "print('June total order cost standard deviation is:')\n",
    "print(JuneSD)\n",
    "\n",
    "print(\"July:\")\n",
    "print('July mean total order cost is:')\n",
    "print(JulyMean)\n",
    "print('July median total order cost is:')\n",
    "print(JulyMedian)\n",
    "print('July lowest total order cost is:')\n",
    "print(JulyLowest)\n",
    "print('July highest total order cost is:')\n",
    "print(JulyHighest)\n",
    "print('July total order cost standard deviation is:')\n",
    "print(JulySD)"
   ]
  },
  {
   "cell_type": "code",
   "execution_count": 16,
   "id": "93f33f47",
   "metadata": {},
   "outputs": [
    {
     "name": "stdout",
     "output_type": "stream",
     "text": [
      "[1] \"And here are some graphs:\"\n"
     ]
    },
    {
     "data": {
      "image/png": "[encoded data removed]",
      "text/plain": [
       "Plot with title \"Monthly Means Bar Chart\""
      ]
     },
     "metadata": {},
     "output_type": "display_data"
    },
    {
     "data": {
      "image/png": "[encoded data removed]",
      "text/plain": [
       "Plot with title \"Monthly Standard Deviations Bar Chart\""
      ]
     },
     "metadata": {},
     "output_type": "display_data"
    }
   ],
   "source": [
    "#Now making graphs with them.\n",
    "print('And here are some graphs:')\n",
    "#Monthly means graph\n",
    "barplot(MeansCombined, names.arg = MonthList, main = \"Monthly Means Bar Chart\",xlab = 'Month', ylab = 'Mean Total Order Amount')\n",
    "#Monthly standard deviations graph\n",
    "barplot(SDsCombined, names.arg = MonthList, main = \"Monthly Standard Deviations Bar Chart\",xlab = 'Month', ylab = 'Standard Deviation in Total Order Amount')"
   ]
  },
  {
   "cell_type": "code",
   "execution_count": 17,
   "id": "f7cb2405",
   "metadata": {},
   "outputs": [
    {
     "name": "stdout",
     "output_type": "stream",
     "text": [
      "[1] \"And here are some more graphs:\"\n"
     ]
    },
    {
     "data": {
      "image/png": "[encoded data removed]",
      "text/plain": [
       "Plot with title \"Monthly Median Line Plot\""
      ]
     },
     "metadata": {},
     "output_type": "display_data"
    },
    {
     "data": {
      "image/png": "[encoded data removed]",
      "text/plain": [
       "Plot with title \"Monthly Statistic Multiple Line Graph\""
      ]
     },
     "metadata": {},
     "output_type": "display_data"
    }
   ],
   "source": [
    "#And some more graphs.\n",
    "print('And here are some more graphs:')\n",
    "#Monthly medians line graph\n",
    "plot(MediansCombined, type = 'l', xlab = 'Months Since March', ylab = 'Median Order Total', main = 'Monthly Median Line Plot')\n",
    "#Multiple line plot - means, medians, highest, lowest\n",
    "xfiller <- c(1,4) #these points exist only to stretch the window the graph is rendered in - their size is set to 0.\n",
    "yfiller <-c(0,250)\n",
    "plot(xfiller,yfiller, cex = 0, xlab = 'Months Since March', ylab = 'Dollar Value of Statistic for Month', main = 'Monthly Statistic Multiple Line Graph') #to stretch the window\n",
    "lines(HighestCombined, type = 'l', col = 'orange')\n",
    "lines(MediansCombined, type = 'l', col = 'blue')\n",
    "lines(MeansCombined, type = 'l', col = 'red')\n",
    "lines(LowestCombined, type = 'l', col = 'green')\n",
    "\n",
    "StatList <- c('Highest','Mean','Median','Lowest')\n",
    "multipleLineColors <- c('orange','red','blue','green')\n",
    "legend('topleft', StatList, fill = multipleLineColors)\n"
   ]
  }
 ],
 "metadata": {
  "kernelspec": {
   "display_name": "R",
   "language": "R",
   "name": "ir"
  },
  "language_info": {
   "codemirror_mode": "r",
   "file_extension": ".r",
   "mimetype": "text/x-r-source",
   "name": "R",
   "pygments_lexer": "r",
   "version": "3.6.1"
  }
 },
 "nbformat": 4,
 "nbformat_minor": 5
}
